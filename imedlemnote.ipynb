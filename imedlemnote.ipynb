{
 "cells": [
  {
   "cell_type": "markdown",
   "id": "83fb8c42-f73c-442c-8696-c415a8b184a0",
   "metadata": {},
   "source": [
    "# My Jupyter Notebook on IBM Watson Studio"
   ]
  },
  {
   "cell_type": "markdown",
   "id": "3307e080-d751-4ba0-89b7-56a836c34a91",
   "metadata": {},
   "source": [
    "**LEMNAOUER IMED EDDINE**...\n",
    "\n",
    "\n",
    "\n"
   ]
  },
  {
   "cell_type": "markdown",
   "id": "cc6e7e26-1468-4f64-9fd2-2ea960eff469",
   "metadata": {},
   "source": [
    "*i am interested in data science because i am a curious person and i like to work with numbers.Problem solving is my passion.*"
   ]
  },
  {
   "cell_type": "markdown",
   "id": "10d4e359-40c2-45ef-a796-cfc47d9689d4",
   "metadata": {},
   "source": [
    "### My code will make a simple mathematics calculation"
   ]
  },
  {
   "cell_type": "code",
   "execution_count": 9,
   "id": "5097e1ad-b397-4c57-9cec-efc076b348c8",
   "metadata": {},
   "outputs": [
    {
     "name": "stdout",
     "output_type": "stream",
     "text": [
      "3\n"
     ]
    }
   ],
   "source": [
    "a=1\n",
    "b=2\n",
    "print (a+b)"
   ]
  },
  {
   "cell_type": "markdown",
   "id": "b6ecced7-c1e9-4f0f-b24b-26b81998cb31",
   "metadata": {},
   "source": [
    "CATEGORY | SHAPE | AGE\n",
    "--- | --- | ---|\n",
    "GENDER | XXX | YYY  \n",
    "OCCUPATION  | XXX | YYY \n",
    "TYPE | XXX | YYY \n",
    "\n",
    "\n",
    "[CHECK OUT GOOGLE SERVICES](https://www.google.com)\n",
    "\n",
    "1. add salt\n",
    "2. then onions \n",
    "3. eggs\n",
    "4. fry them together in a pan.\n",
    "***\n",
    "\n",
    "\n",
    "\n"
   ]
  }
 ],
 "metadata": {
  "kernelspec": {
   "display_name": "anaconda-2022.05-py39",
   "language": "python",
   "name": "conda-env-anaconda-2022.05-py39-py"
  },
  "language_info": {
   "codemirror_mode": {
    "name": "ipython",
    "version": 3
   },
   "file_extension": ".py",
   "mimetype": "text/x-python",
   "name": "python",
   "nbconvert_exporter": "python",
   "pygments_lexer": "ipython3",
   "version": "3.9.12"
  }
 },
 "nbformat": 4,
 "nbformat_minor": 5
}
