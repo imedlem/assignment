{
 "cells": [
  {
   "cell_type": "markdown",
   "id": "2ae50e0e-782d-4616-97b8-7a652d82e44d",
   "metadata": {},
   "source": [
    "# Data Science Tools and Ecosystem"
   ]
  },
  {
   "cell_type": "markdown",
   "id": "f1496722-cf79-4505-ab6c-285687d679e8",
   "metadata": {},
   "source": [
    "In this notebook, we will get familiarized with some basic data science tools "
   ]
  },
  {
   "cell_type": "markdown",
   "id": "4924bb62-449d-41af-8e99-daf0896bd6ca",
   "metadata": {},
   "source": [
    "**Objectives :**\n",
    "\n",
    "- Discover some of the Libraries used in Data Science.\n",
    "- Use Markdown to create table.\n",
    "- List languages used in data science.\n",
    "- Convert minutes to hours using code cells.\n",
    "- Use unordered list in markdown."
   ]
  },
  {
   "cell_type": "markdown",
   "id": "50c5aebb-2644-4b90-81e7-41c8093e96ae",
   "metadata": {},
   "source": [
    "Let's start with the most commonly used languages in data science:\n",
    "1. Python\n",
    "2. R\n",
    "3. SQL"
   ]
  },
  {
   "cell_type": "markdown",
   "id": "c976120e-36bd-459d-9c8d-35517fcc6f5a",
   "metadata": {},
   "source": [
    "Many libraries are used in data science. Some of them are :\n",
    "\n",
    "1. Pandas\n",
    "2. Matplotlib\n",
    "3. Keras\n",
    "4. Scikit-learn"
   ]
  },
  {
   "cell_type": "markdown",
   "id": "97951981-c055-4631-9621-c9cb02821222",
   "metadata": {},
   "source": [
    "| Data Science Tools |\n",
    "| --- |\n",
    "| Jupyter Notebooks |\n",
    "| R studio |\n",
    "| GitHub |"
   ]
  },
  {
   "cell_type": "markdown",
   "id": "167ed4ce-12dd-4636-9bd9-fcbc871302aa",
   "metadata": {},
   "source": [
    "### Below are a few examples of evaluating arithmetic expressions in Python.\n",
    "---"
   ]
  },
  {
   "cell_type": "code",
   "execution_count": 40,
   "id": "a7e0c423-38ab-4ffe-82c3-2eeacf8ebb66",
   "metadata": {},
   "outputs": [
    {
     "data": {
      "text/plain": [
       "17"
      ]
     },
     "execution_count": 40,
     "metadata": {},
     "output_type": "execute_result"
    }
   ],
   "source": [
    "# This a simple arithmetic expression to mutiply then add integers. \n",
    "(3*4)+5"
   ]
  },
  {
   "cell_type": "code",
   "execution_count": 43,
   "id": "972807e2-04b4-46ae-ba46-9e197eeda39f",
   "metadata": {},
   "outputs": [
    {
     "name": "stdout",
     "output_type": "stream",
     "text": [
      "3.3333333333333335\n"
     ]
    }
   ],
   "source": [
    "# his will convert 200 minutes to hours by diving by 60\n",
    "minutes = 200\n",
    "hours = 200/60\n",
    "print (hours)"
   ]
  },
  {
   "cell_type": "markdown",
   "id": "493c5791-d0cc-4922-9efa-ab138f8911aa",
   "metadata": {},
   "source": [
    "## Author\n",
    "LEMNAOUER IMED EDDINE "
   ]
  },
  {
   "cell_type": "code",
   "execution_count": null,
   "id": "3efc4cca-8a92-402f-b677-198c43a5df94",
   "metadata": {},
   "outputs": [],
   "source": []
  }
 ],
 "metadata": {
  "kernelspec": {
   "display_name": "anaconda-2022.05-py39",
   "language": "python",
   "name": "conda-env-anaconda-2022.05-py39-py"
  },
  "language_info": {
   "codemirror_mode": {
    "name": "ipython",
    "version": 3
   },
   "file_extension": ".py",
   "mimetype": "text/x-python",
   "name": "python",
   "nbconvert_exporter": "python",
   "pygments_lexer": "ipython3",
   "version": "3.9.12"
  }
 },
 "nbformat": 4,
 "nbformat_minor": 5
}
